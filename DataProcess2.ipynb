{
 "cells": [
  {
   "cell_type": "code",
   "execution_count": 13,
   "metadata": {},
   "outputs": [],
   "source": [
    "import pandas as pd\n",
    "import numpy as np\n",
    "import matplotlib.pyplot as plt"
   ]
  },
  {
   "cell_type": "markdown",
   "metadata": {},
   "source": [
    "1. Hiển thị số dòng bị missing và phần trăm bị missing"
   ]
  },
  {
   "cell_type": "code",
   "execution_count": 14,
   "metadata": {},
   "outputs": [
    {
     "name": "stdout",
     "output_type": "stream",
     "text": [
      "Số dòng bị missing data: \n",
      "Tên sản phẩm                   0\n",
      "Tên cửa hàng                   0\n",
      "Giá                            0\n",
      "Thương hiệu                  100\n",
      "Lượt đánh giá                  0\n",
      "Điểm đánh giá trung bình       0\n",
      "Số lượng đã bán                0\n",
      "Category                       0\n",
      "Currency                    1975\n",
      "Fit                            0\n",
      "dtype: int64\n",
      "\n",
      "\n",
      "Tỉ lệ cho từng feature: \n"
     ]
    },
    {
     "data": {
      "text/plain": [
       "Tên sản phẩm                 0.000000\n",
       "Tên cửa hàng                 0.000000\n",
       "Giá                          0.000000\n",
       "Thương hiệu                  3.373819\n",
       "Lượt đánh giá                0.000000\n",
       "Điểm đánh giá trung bình     0.000000\n",
       "Số lượng đã bán              0.000000\n",
       "Category                     0.000000\n",
       "Currency                    66.632928\n",
       "Fit                          0.000000\n",
       "dtype: float64"
      ]
     },
     "execution_count": 14,
     "metadata": {},
     "output_type": "execute_result"
    }
   ],
   "source": [
    "df=pd.read_csv('merged_file.csv')\n",
    "missing_counts = df.isnull().sum()\n",
    "print(\"Số dòng bị missing data: \")\n",
    "print(missing_counts)\n",
    "print('\\n')\n",
    "print(\"Tỉ lệ cho từng feature: \")\n",
    "missing_percentage = missing_counts/len(df)*100\n",
    "missing_percentage"
   ]
  },
  {
   "cell_type": "markdown",
   "metadata": {},
   "source": [
    "2. Cho biết kiểu dữ liệu của từng cột"
   ]
  },
  {
   "cell_type": "code",
   "execution_count": 15,
   "metadata": {},
   "outputs": [
    {
     "name": "stdout",
     "output_type": "stream",
     "text": [
      "Thông tin kiểu dữ liệu của từng cột:\n",
      "Tên sản phẩm: object\n",
      "Tên cửa hàng: object\n",
      "Giá: float64\n",
      "Thương hiệu: object\n",
      "Lượt đánh giá: float64\n",
      "Điểm đánh giá trung bình: float64\n",
      "Số lượng đã bán: float64\n",
      "Category: object\n",
      "Currency: object\n",
      "Fit: float64\n"
     ]
    }
   ],
   "source": [
    "info = df.dtypes\n",
    "print(\"Thông tin kiểu dữ liệu của từng cột:\")\n",
    "for col, dtype in info.items(): \n",
    "    print(f\"{col}: {dtype}\")"
   ]
  },
  {
   "cell_type": "markdown",
   "metadata": {},
   "source": [
    "3. Handle missing data"
   ]
  },
  {
   "cell_type": "code",
   "execution_count": 16,
   "metadata": {},
   "outputs": [
    {
     "data": {
      "text/html": [
       "<div>\n",
       "<style scoped>\n",
       "    .dataframe tbody tr th:only-of-type {\n",
       "        vertical-align: middle;\n",
       "    }\n",
       "\n",
       "    .dataframe tbody tr th {\n",
       "        vertical-align: top;\n",
       "    }\n",
       "\n",
       "    .dataframe thead th {\n",
       "        text-align: right;\n",
       "    }\n",
       "</style>\n",
       "<table border=\"1\" class=\"dataframe\">\n",
       "  <thead>\n",
       "    <tr style=\"text-align: right;\">\n",
       "      <th></th>\n",
       "      <th>Tên sản phẩm</th>\n",
       "      <th>Tên cửa hàng</th>\n",
       "      <th>Giá</th>\n",
       "      <th>Thương hiệu</th>\n",
       "      <th>Lượt đánh giá</th>\n",
       "      <th>Điểm đánh giá trung bình</th>\n",
       "      <th>Số lượng đã bán</th>\n",
       "      <th>Category</th>\n",
       "      <th>Currency</th>\n",
       "    </tr>\n",
       "  </thead>\n",
       "  <tbody>\n",
       "    <tr>\n",
       "      <th>0</th>\n",
       "      <td>Đầm Jean Nữ Thời Trang</td>\n",
       "      <td>THỜI TRANG TINA</td>\n",
       "      <td>235000.0</td>\n",
       "      <td>OEM</td>\n",
       "      <td>4.0</td>\n",
       "      <td>4.3</td>\n",
       "      <td>11.0</td>\n",
       "      <td>Đầm</td>\n",
       "      <td>VND</td>\n",
       "    </tr>\n",
       "    <tr>\n",
       "      <th>1</th>\n",
       "      <td>Đầm bông thời trang</td>\n",
       "      <td>Hương Nemo Style</td>\n",
       "      <td>155000.0</td>\n",
       "      <td>VONESA</td>\n",
       "      <td>0.0</td>\n",
       "      <td>0.0</td>\n",
       "      <td>1.0</td>\n",
       "      <td>Đầm</td>\n",
       "      <td>VND</td>\n",
       "    </tr>\n",
       "    <tr>\n",
       "      <th>2</th>\n",
       "      <td>Đầm Jean Nữ Thắt Dây Eo Thời Trang</td>\n",
       "      <td>THỜI TRANG TINA</td>\n",
       "      <td>199000.0</td>\n",
       "      <td>OEM</td>\n",
       "      <td>1.0</td>\n",
       "      <td>4.0</td>\n",
       "      <td>2.0</td>\n",
       "      <td>Đầm</td>\n",
       "      <td>VND</td>\n",
       "    </tr>\n",
       "    <tr>\n",
       "      <th>3</th>\n",
       "      <td>Đầm xoè đính hoa thời trang</td>\n",
       "      <td>Xưởng Quần Áo Đẹp</td>\n",
       "      <td>155000.0</td>\n",
       "      <td>VONESA</td>\n",
       "      <td>0.0</td>\n",
       "      <td>0.0</td>\n",
       "      <td>0.0</td>\n",
       "      <td>Đầm</td>\n",
       "      <td>VND</td>\n",
       "    </tr>\n",
       "    <tr>\n",
       "      <th>4</th>\n",
       "      <td>Đầm Xòe Công Sở Phối Lưới Thời Trang</td>\n",
       "      <td>THỜI TRANG TINA</td>\n",
       "      <td>148500.0</td>\n",
       "      <td>OEM</td>\n",
       "      <td>1.0</td>\n",
       "      <td>4.0</td>\n",
       "      <td>1.0</td>\n",
       "      <td>Đầm</td>\n",
       "      <td>VND</td>\n",
       "    </tr>\n",
       "  </tbody>\n",
       "</table>\n",
       "</div>"
      ],
      "text/plain": [
       "                           Tên sản phẩm       Tên cửa hàng       Giá  \\\n",
       "0                Đầm Jean Nữ Thời Trang    THỜI TRANG TINA  235000.0   \n",
       "1                   Đầm bông thời trang   Hương Nemo Style  155000.0   \n",
       "2    Đầm Jean Nữ Thắt Dây Eo Thời Trang    THỜI TRANG TINA  199000.0   \n",
       "3           Đầm xoè đính hoa thời trang  Xưởng Quần Áo Đẹp  155000.0   \n",
       "4  Đầm Xòe Công Sở Phối Lưới Thời Trang    THỜI TRANG TINA  148500.0   \n",
       "\n",
       "  Thương hiệu  Lượt đánh giá  Điểm đánh giá trung bình  Số lượng đã bán  \\\n",
       "0         OEM            4.0                       4.3             11.0   \n",
       "1      VONESA            0.0                       0.0              1.0   \n",
       "2         OEM            1.0                       4.0              2.0   \n",
       "3      VONESA            0.0                       0.0              0.0   \n",
       "4         OEM            1.0                       4.0              1.0   \n",
       "\n",
       "  Category Currency  \n",
       "0      Đầm      VND  \n",
       "1      Đầm      VND  \n",
       "2      Đầm      VND  \n",
       "3      Đầm      VND  \n",
       "4      Đầm      VND  "
      ]
     },
     "execution_count": 16,
     "metadata": {},
     "output_type": "execute_result"
    }
   ],
   "source": [
    "df['Currency']='VND'\n",
    "df = df.drop(columns=['Fit'])\n",
    "for col in df.select_dtypes(include='object').columns:\n",
    "    df[col] = df[col].fillna(0)\n",
    "\n",
    "for col in df.select_dtypes(include='float64').columns:\n",
    "    df[col] = df[col].fillna(0)\n",
    "\n",
    "df.head()"
   ]
  },
  {
   "cell_type": "markdown",
   "metadata": {},
   "source": []
  }
 ],
 "metadata": {
  "kernelspec": {
   "display_name": "Python 3",
   "language": "python",
   "name": "python3"
  },
  "language_info": {
   "codemirror_mode": {
    "name": "ipython",
    "version": 3
   },
   "file_extension": ".py",
   "mimetype": "text/x-python",
   "name": "python",
   "nbconvert_exporter": "python",
   "pygments_lexer": "ipython3",
   "version": "3.12.8"
  }
 },
 "nbformat": 4,
 "nbformat_minor": 2
}
