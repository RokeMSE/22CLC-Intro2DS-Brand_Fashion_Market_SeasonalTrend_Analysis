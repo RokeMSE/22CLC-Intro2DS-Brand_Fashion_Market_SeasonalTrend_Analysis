{
 "cells": [
  {
   "cell_type": "code",
   "execution_count": 54,
   "metadata": {},
   "outputs": [],
   "source": [
    "import pandas as pd\n",
    "import numpy as np\n",
    "import matplotlib.pyplot as plt"
   ]
  },
  {
   "cell_type": "markdown",
   "metadata": {},
   "source": [
    "1. Hiển thị số dòng bị missing và phần trăm bị missing"
   ]
  },
  {
   "cell_type": "code",
   "execution_count": 55,
   "metadata": {},
   "outputs": [
    {
     "name": "stdout",
     "output_type": "stream",
     "text": [
      "Số dòng bị missing data: \n",
      "Tên sản phẩm                   0\n",
      "Tên cửa hàng                 899\n",
      "Currency                    9709\n",
      "Giá                            0\n",
      "Điểm đánh giá trung bình     132\n",
      "Lượt đánh giá                132\n",
      "Thương hiệu                 1235\n",
      "Số lượng đã bán              989\n",
      "Fit                         9922\n",
      "dtype: int64\n",
      "\n",
      "\n",
      "Tỉ lệ cho từng feature: \n"
     ]
    },
    {
     "data": {
      "text/plain": [
       "Tên sản phẩm                 0.000000\n",
       "Tên cửa hàng                 8.403440\n",
       "Currency                    90.755281\n",
       "Giá                          0.000000\n",
       "Điểm đánh giá trung bình     1.233875\n",
       "Lượt đánh giá                1.233875\n",
       "Thương hiệu                 11.544214\n",
       "Số lượng đã bán              9.244719\n",
       "Fit                         92.746308\n",
       "dtype: float64"
      ]
     },
     "execution_count": 55,
     "metadata": {},
     "output_type": "execute_result"
    }
   ],
   "source": [
    "df=pd.read_csv('merged_file.csv')\n",
    "missing_counts = df.isnull().sum()\n",
    "print(\"Số dòng bị missing data: \")\n",
    "print(missing_counts)\n",
    "print('\\n')\n",
    "print(\"Tỉ lệ cho từng feature: \")\n",
    "missing_percentage = missing_counts/len(df)*100\n",
    "missing_percentage"
   ]
  },
  {
   "cell_type": "markdown",
   "metadata": {},
   "source": [
    "2. Cho biết kiểu dữ liệu của từng cột"
   ]
  },
  {
   "cell_type": "code",
   "execution_count": 56,
   "metadata": {},
   "outputs": [
    {
     "name": "stdout",
     "output_type": "stream",
     "text": [
      "Thông tin kiểu dữ liệu của từng cột:\n",
      "Tên sản phẩm: object\n",
      "Tên cửa hàng: object\n",
      "Currency: object\n",
      "Giá: float64\n",
      "Điểm đánh giá trung bình: float64\n",
      "Lượt đánh giá: float64\n",
      "Thương hiệu: object\n",
      "Số lượng đã bán: float64\n",
      "Fit: float64\n"
     ]
    }
   ],
   "source": [
    "info = df.dtypes\n",
    "print(\"Thông tin kiểu dữ liệu của từng cột:\")\n",
    "for col, dtype in info.items(): \n",
    "    print(f\"{col}: {dtype}\")"
   ]
  },
  {
   "cell_type": "markdown",
   "metadata": {},
   "source": [
    "3. Handle missing data"
   ]
  },
  {
   "cell_type": "code",
   "execution_count": 57,
   "metadata": {},
   "outputs": [
    {
     "data": {
      "text/html": [
       "<div>\n",
       "<style scoped>\n",
       "    .dataframe tbody tr th:only-of-type {\n",
       "        vertical-align: middle;\n",
       "    }\n",
       "\n",
       "    .dataframe tbody tr th {\n",
       "        vertical-align: top;\n",
       "    }\n",
       "\n",
       "    .dataframe thead th {\n",
       "        text-align: right;\n",
       "    }\n",
       "</style>\n",
       "<table border=\"1\" class=\"dataframe\">\n",
       "  <thead>\n",
       "    <tr style=\"text-align: right;\">\n",
       "      <th></th>\n",
       "      <th>Tên sản phẩm</th>\n",
       "      <th>Tên cửa hàng</th>\n",
       "      <th>Currency</th>\n",
       "      <th>Giá</th>\n",
       "      <th>Điểm đánh giá trung bình</th>\n",
       "      <th>Lượt đánh giá</th>\n",
       "      <th>Thương hiệu</th>\n",
       "      <th>Số lượng đã bán</th>\n",
       "    </tr>\n",
       "  </thead>\n",
       "  <tbody>\n",
       "    <tr>\n",
       "      <th>0</th>\n",
       "      <td>Foil Mandala Graphic Tee</td>\n",
       "      <td>adidas</td>\n",
       "      <td>VND</td>\n",
       "      <td>500000.0</td>\n",
       "      <td>4.5</td>\n",
       "      <td>8.0</td>\n",
       "      <td>0</td>\n",
       "      <td>0.0</td>\n",
       "    </tr>\n",
       "    <tr>\n",
       "      <th>1</th>\n",
       "      <td>FARM Rio Print Relaxed Lightweight Windbreaker</td>\n",
       "      <td>adidas</td>\n",
       "      <td>VND</td>\n",
       "      <td>1300000.0</td>\n",
       "      <td>4.8</td>\n",
       "      <td>43.0</td>\n",
       "      <td>0</td>\n",
       "      <td>0.0</td>\n",
       "    </tr>\n",
       "    <tr>\n",
       "      <th>2</th>\n",
       "      <td>Adilette Comfort Slides</td>\n",
       "      <td>adidas</td>\n",
       "      <td>VND</td>\n",
       "      <td>600000.0</td>\n",
       "      <td>4.8</td>\n",
       "      <td>84.0</td>\n",
       "      <td>0</td>\n",
       "      <td>0.0</td>\n",
       "    </tr>\n",
       "    <tr>\n",
       "      <th>3</th>\n",
       "      <td>Santiago Lunch Bag</td>\n",
       "      <td>adidas</td>\n",
       "      <td>VND</td>\n",
       "      <td>500000.0</td>\n",
       "      <td>5.0</td>\n",
       "      <td>51.0</td>\n",
       "      <td>0</td>\n",
       "      <td>0.0</td>\n",
       "    </tr>\n",
       "    <tr>\n",
       "      <th>4</th>\n",
       "      <td>Club Tennis 3-Stripes Tee</td>\n",
       "      <td>adidas</td>\n",
       "      <td>VND</td>\n",
       "      <td>800000.0</td>\n",
       "      <td>4.8</td>\n",
       "      <td>39.0</td>\n",
       "      <td>0</td>\n",
       "      <td>0.0</td>\n",
       "    </tr>\n",
       "  </tbody>\n",
       "</table>\n",
       "</div>"
      ],
      "text/plain": [
       "                                     Tên sản phẩm Tên cửa hàng Currency  \\\n",
       "0                        Foil Mandala Graphic Tee       adidas      VND   \n",
       "1  FARM Rio Print Relaxed Lightweight Windbreaker       adidas      VND   \n",
       "2                         Adilette Comfort Slides       adidas      VND   \n",
       "3                              Santiago Lunch Bag       adidas      VND   \n",
       "4                       Club Tennis 3-Stripes Tee       adidas      VND   \n",
       "\n",
       "         Giá  Điểm đánh giá trung bình  Lượt đánh giá Thương hiệu  \\\n",
       "0   500000.0                       4.5            8.0           0   \n",
       "1  1300000.0                       4.8           43.0           0   \n",
       "2   600000.0                       4.8           84.0           0   \n",
       "3   500000.0                       5.0           51.0           0   \n",
       "4   800000.0                       4.8           39.0           0   \n",
       "\n",
       "   Số lượng đã bán  \n",
       "0              0.0  \n",
       "1              0.0  \n",
       "2              0.0  \n",
       "3              0.0  \n",
       "4              0.0  "
      ]
     },
     "execution_count": 57,
     "metadata": {},
     "output_type": "execute_result"
    }
   ],
   "source": [
    "df['Currency']='VND'\n",
    "df = df.drop(columns=['Fit'])\n",
    "for col in df.select_dtypes(include='object').columns:\n",
    "    df[col] = df[col].fillna(0)\n",
    "\n",
    "for col in df.select_dtypes(include='float64').columns:\n",
    "    df[col] = df[col].fillna(0)\n",
    "\n",
    "df.head()"
   ]
  },
  {
   "cell_type": "markdown",
   "metadata": {},
   "source": []
  }
 ],
 "metadata": {
  "kernelspec": {
   "display_name": "Python 3 (ipykernel)",
   "language": "python",
   "name": "python3"
  },
  "language_info": {
   "codemirror_mode": {
    "name": "ipython",
    "version": 3
   },
   "file_extension": ".py",
   "mimetype": "text/x-python",
   "name": "python",
   "nbconvert_exporter": "python",
   "pygments_lexer": "ipython3",
   "version": "3.13.1"
  }
 },
 "nbformat": 4,
 "nbformat_minor": 2
}
