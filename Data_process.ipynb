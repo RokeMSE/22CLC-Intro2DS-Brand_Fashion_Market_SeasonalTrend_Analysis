{
 "cells": [
  {
   "cell_type": "code",
   "execution_count": 52,
   "metadata": {},
   "outputs": [],
   "source": [
    "import pandas as pd\n",
    "import os\n",
    "import glob"
   ]
  },
  {
   "cell_type": "code",
   "execution_count": 53,
   "metadata": {},
   "outputs": [],
   "source": [
    "class DataProcessor:\n",
    "    def __init__(self, file_path, sep='\\t'):\n",
    "        self.file_path = file_path\n",
    "        self.sep = sep\n",
    "        self.df = pd.read_csv(file_path, sep=sep)\n",
    "    \n",
    "    def remove_columns(self, columns):\n",
    "        self.df = self.df.drop(columns=columns)\n",
    "    \n",
    "    def drop_duplicates(self):\n",
    "        self.df = self.df.drop_duplicates()\n",
    "    \n",
    "    def rename_columns(self, columns_dict):\n",
    "        self.df.rename(columns=columns_dict, inplace=True)\n",
    "    \n",
    "    def save_to_csv(self, output_path):\n",
    "        self.df.to_csv(output_path, index=False)\n",
    "    \n",
    "    def classify_product(self):\n",
    "        self.df['Category'] = self.df['Tên sản phẩm'].apply(self._classify)\n",
    "    \n",
    "    def _classify(self, name):\n",
    "        name = name.lower()\n",
    "        if 'áo' in name or 'sơ mi' in name:\n",
    "            return 'Áo'\n",
    "        elif 'quần' in name:\n",
    "            return 'Quần'\n",
    "        elif 'váy' in name:\n",
    "            return 'Váy'\n",
    "        elif 'túi' in name or 'ví' in name:\n",
    "            return 'Túi'\n",
    "        elif 'giày' in name or 'sandal' in name:\n",
    "            return 'Giày'\n",
    "        elif 'dép' in name:\n",
    "            return 'Dép'\n",
    "        elif 'đầm' in name:\n",
    "            return 'Đầm'\n",
    "        elif 'nón' in name or 'mũ' in name:\n",
    "            return 'Nón/Mũ'\n",
    "        elif 'balo' in name or 'cặp' in name or 'ba lô' in name:\n",
    "            return 'Balo/Cặp'\n",
    "        elif 'mắt kính' in name or 'kính' in name:\n",
    "            return 'Mắt Kính'\n",
    "        elif 'khăn' in name:\n",
    "            return 'Khăn'\n",
    "        elif 'tất' in name:\n",
    "            return 'Tất'\n",
    "        elif 'găng tay' in name:\n",
    "            return 'Găng Tay'\n",
    "        elif 'đồng hồ' in name:\n",
    "            return 'Đồng Hồ'\n",
    "        elif 'vòng' in name:\n",
    "            return 'Vòng'\n",
    "        elif 'thắt lưng' in name:\n",
    "            return 'Thắt Lưng'\n",
    "        elif 'bộ' in name:\n",
    "            return 'Bộ'\n",
    "        elif 'khuyên tai' in name or 'kẹp' in name or 'dây chuyền' in name or 'bông tai' in name or 'gắp' in name or 'nhẫn' in name:\n",
    "            return 'Phụ kiện'\n",
    "        else:\n",
    "            return 'Khác'\n"
   ]
  },
  {
   "cell_type": "markdown",
   "metadata": {},
   "source": [
    "# Remove unnecessary features"
   ]
  },
  {
   "cell_type": "markdown",
   "metadata": {},
   "source": [
    "### 1. Tiki data"
   ]
  },
  {
   "cell_type": "code",
   "execution_count": 54,
   "metadata": {},
   "outputs": [],
   "source": [
    "processor = DataProcessor('Data/tiki_products_modified.csv', sep=',')\n",
    "processor.classify_product()\n",
    "processor.save_to_csv('Data/tiki_products_final.csv')"
   ]
  },
  {
   "cell_type": "markdown",
   "metadata": {},
   "source": [
    "## 2. Uniqlo data"
   ]
  },
  {
   "cell_type": "code",
   "execution_count": 55,
   "metadata": {},
   "outputs": [],
   "source": [
    "processor = DataProcessor('Data/uniqlo_products_modified.csv', sep=',')\n",
    "processor.classify_product()\n",
    "processor.save_to_csv('Data/uniqlo_products_final.csv')"
   ]
  },
  {
   "cell_type": "code",
   "execution_count": 56,
   "metadata": {},
   "outputs": [],
   "source": [
    "processor = DataProcessor('Data/adidas_nikes_products_modified.csv', sep=',')\n",
    "processor.classify_product()\n",
    "processor.save_to_csv('Data/adidas_nikes_products_final.csv')"
   ]
  },
  {
   "cell_type": "code",
   "execution_count": 57,
   "metadata": {},
   "outputs": [],
   "source": [
    "csv_files = ['Data/tiki_products_final.csv', 'Data/uniqlo_products_final.csv', 'Data/adidas_nikes_products_final.csv']\n",
    "\n",
    "# Đọc và nối các file CSV\n",
    "dfs = [pd.read_csv(file) for file in csv_files]\n",
    "\n",
    "# Nối tất cả các DataFrame lại với nhau\n",
    "merged_df = pd.concat(dfs, ignore_index=True)\n",
    "\n",
    "# Lưu kết quả vào file CSV mới\n",
    "merged_df.to_csv('merged_file.csv', index=False)"
   ]
  }
 ],
 "metadata": {
  "kernelspec": {
   "display_name": "min_ds-env",
   "language": "python",
   "name": "python3"
  },
  "language_info": {
   "codemirror_mode": {
    "name": "ipython",
    "version": 3
   },
   "file_extension": ".py",
   "mimetype": "text/x-python",
   "name": "python",
   "nbconvert_exporter": "python",
   "pygments_lexer": "ipython3",
   "version": "3.12.7"
  }
 },
 "nbformat": 4,
 "nbformat_minor": 2
}
