{
 "cells": [
  {
   "cell_type": "code",
   "execution_count": 30,
   "metadata": {},
   "outputs": [],
   "source": [
    "import pandas as pd\n",
    "import os"
   ]
  },
  {
   "cell_type": "markdown",
   "metadata": {},
   "source": [
    "# Remove unnecessary features"
   ]
  },
  {
   "cell_type": "markdown",
   "metadata": {},
   "source": [
    "### 1. Tiki data"
   ]
  },
  {
   "cell_type": "code",
   "execution_count": 31,
   "metadata": {},
   "outputs": [],
   "source": [
    "file_path = 'Data/tiki_products_áo.csv'\n",
    "df = pd.read_csv(file_path, sep='\\t')\n",
    "df = df.drop(columns=['Link'])\n",
    "df.to_csv('Data/tiki_products_áo_modified.csv', index=False)"
   ]
  },
  {
   "cell_type": "code",
   "execution_count": 32,
   "metadata": {},
   "outputs": [],
   "source": [
    "file_path = 'Data/tiki_products_quần.csv'\n",
    "df = pd.read_csv(file_path, sep='\\t')\n",
    "df = df.drop(columns=['Link'])\n",
    "df.to_csv('Data/tiki_products_quần_modified.csv', index=False)"
   ]
  },
  {
   "cell_type": "code",
   "execution_count": 33,
   "metadata": {},
   "outputs": [],
   "source": [
    "file_path = 'Data/tiki_products_thời trang.csv'\n",
    "df = pd.read_csv(file_path, sep='\\t')\n",
    "df = df.drop(columns=['Link'])\n",
    "df.to_csv('Data/tiki_products_thời trang_modified.csv', index=False)"
   ]
  },
  {
   "cell_type": "code",
   "execution_count": 34,
   "metadata": {},
   "outputs": [],
   "source": [
    "file_path = 'Data/tiki_products.csv'\n",
    "df = pd.read_csv(file_path, sep='\\t')\n",
    "df = df.drop(columns=['Link'])\n",
    "df.to_csv('Data/tiki_products_modified.csv', index=False)"
   ]
  },
  {
   "cell_type": "code",
   "execution_count": 35,
   "metadata": {},
   "outputs": [],
   "source": [
    "file_path = 'Data/tiki_products_váy.csv'\n",
    "df = pd.read_csv(file_path, sep='\\t')\n",
    "df = df.drop(columns=['Link'])\n",
    "df.to_csv('Data/tiki_products_váy_modified.csv', index=False)"
   ]
  },
  {
   "cell_type": "markdown",
   "metadata": {},
   "source": [
    "### 2. Uniqlo data"
   ]
  },
  {
   "cell_type": "code",
   "execution_count": 36,
   "metadata": {},
   "outputs": [],
   "source": [
    "file_path = 'Data/uniqlo_products.csv' \n",
    "df = pd.read_csv(file_path)\n",
    "df = df.drop(columns=['URL'])\n",
    "df.to_csv('Data/uniqlo_products_modified.csv', index=False)"
   ]
  },
  {
   "cell_type": "markdown",
   "metadata": {},
   "source": [
    "## 3. Adidas and Nike data"
   ]
  },
  {
   "cell_type": "code",
   "execution_count": 41,
   "metadata": {},
   "outputs": [],
   "source": [
    "file_path = 'Data/adidas_nikes_products_snaphost_data.csv'\n",
    "df = pd.read_csv(file_path)\n",
    "df = df.drop(columns=['description', 'images', 'scraped_at', 'url'])\n",
    "df.to_csv('Data/adidas_nikes_products_modified.csv', index=False)"
   ]
  }
 ],
 "metadata": {
  "kernelspec": {
   "display_name": "Python 3",
   "language": "python",
   "name": "python3"
  },
  "language_info": {
   "codemirror_mode": {
    "name": "ipython",
    "version": 3
   },
   "file_extension": ".py",
   "mimetype": "text/x-python",
   "name": "python",
   "nbconvert_exporter": "python",
   "pygments_lexer": "ipython3",
   "version": "3.12.3"
  }
 },
 "nbformat": 4,
 "nbformat_minor": 2
}
