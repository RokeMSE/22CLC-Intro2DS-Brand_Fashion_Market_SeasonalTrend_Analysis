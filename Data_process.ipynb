{
 "cells": [
  {
   "cell_type": "code",
   "execution_count": 1,
   "metadata": {},
   "outputs": [],
   "source": [
    "import pandas as pd"
   ]
  },
  {
   "cell_type": "code",
   "execution_count": 2,
   "metadata": {},
   "outputs": [],
   "source": [
    "class DataProcessor:\n",
    "    def __init__(self, file_path, sep='\\t'):\n",
    "        self.file_path = file_path\n",
    "        self.sep = sep\n",
    "        self.df = pd.read_csv(file_path, sep=sep)\n",
    "    \n",
    "    def remove_columns(self, columns):\n",
    "        self.df = self.df.drop(columns=columns)\n",
    "    \n",
    "    def drop_duplicates(self):\n",
    "        self.df = self.df.drop_duplicates()\n",
    "    \n",
    "    def rename_columns(self, columns_dict):\n",
    "        self.df.rename(columns=columns_dict, inplace=True)\n",
    "    \n",
    "    def save_to_csv(self, output_path):\n",
    "        self.df.to_csv(output_path, index=False)\n",
    "    \n",
    "    def classify_product(self):\n",
    "        self.df['Category'] = self.df['Tên sản phẩm'].apply(self._classify)\n",
    "        \n",
    "    def _classify(self, name):\n",
    "        name = name.lower()\n",
    "        if 'áo' in name or 'sơ mi' in name or 'shirt' in name:\n",
    "            return 'Áo'\n",
    "        elif 'quần' in name or 'pants' in name or 'tights' in name:\n",
    "            return 'Quần'\n",
    "        elif 'váy' in name or 'skirt' in name or 'dress' in name:\n",
    "            return 'Váy'\n",
    "        elif 'túi' in name or 'ví' in name or 'bag' in name or 'wallet' in name:\n",
    "            return 'Túi'\n",
    "        elif 'giày' in name or 'sandal' in name or 'shoes' in name:\n",
    "            return 'Giày'\n",
    "        elif 'dép' in name or 'slippers' in name:\n",
    "            return 'Dép'\n",
    "        elif 'đầm' in name:\n",
    "            return 'Đầm'\n",
    "        elif 'nón' in name or 'mũ' in name or 'hat' in name:\n",
    "            return 'Nón/Mũ'\n",
    "        elif 'balo' in name or 'cặp' in name or 'ba lô' in name or 'backpack' in name:\n",
    "            return 'Balo/Cặp'\n",
    "        elif 'mắt kính' in name or 'kính' in name or 'glasses' in name:\n",
    "            return 'Mắt Kính'\n",
    "        elif 'khăn' in name or 'scarf' in name:\n",
    "            return 'Khăn'\n",
    "        elif 'tất' in name or 'socks' in name:\n",
    "            return 'Tất'\n",
    "        elif 'găng tay' in name or 'gloves' in name:\n",
    "            return 'Găng Tay'\n",
    "        elif 'đồng hồ' in name or 'watch' in name:\n",
    "            return 'Đồng Hồ'\n",
    "        elif 'vòng' in name or 'bracelet' in name:\n",
    "            return 'Vòng'\n",
    "        elif 'thắt lưng' in name or 'belt' in name:\n",
    "            return 'Thắt Lưng'\n",
    "        elif 'bộ' in name or 'set' in name:\n",
    "            return 'Bộ'\n",
    "        elif any(x in name for x in ['khuyên tai', 'kẹp', 'dây chuyền', 'bông tai', 'gắp', 'nhẫn', 'earrings', 'necklace', 'ring']):\n",
    "            return 'Phụ kiện'\n",
    "        else:\n",
    "            return 'Khác'"
   ]
  },
  {
   "cell_type": "markdown",
   "metadata": {},
   "source": [
    "# Remove unnecessary features"
   ]
  },
  {
   "cell_type": "markdown",
   "metadata": {},
   "source": [
    "### 1. Tiki data"
   ]
  },
  {
   "cell_type": "code",
   "execution_count": 3,
   "metadata": {},
   "outputs": [],
   "source": [
    "processor = DataProcessor('Data/tiki_products_modified.csv', sep=',')\n",
    "processor.classify_product()\n",
    "processor.save_to_csv('Data/tiki_products_final.csv')"
   ]
  },
  {
   "cell_type": "markdown",
   "metadata": {},
   "source": [
    "## 2. Uniqlo data"
   ]
  },
  {
   "cell_type": "code",
   "execution_count": 4,
   "metadata": {},
   "outputs": [],
   "source": [
    "processor = DataProcessor('Data/uniqlo_products_modified.csv', sep=',')\n",
    "processor.classify_product()\n",
    "processor.save_to_csv('Data/uniqlo_products_final.csv')"
   ]
  },
  {
   "cell_type": "code",
   "execution_count": 5,
   "metadata": {},
   "outputs": [],
   "source": [
    "processor = DataProcessor('Data/adidas_nikes_products_modified.csv', sep=',')\n",
    "processor.classify_product()\n",
    "processor.save_to_csv('Data/adidas_nikes_products_final.csv')"
   ]
  },
  {
   "cell_type": "code",
   "execution_count": 6,
   "metadata": {},
   "outputs": [],
   "source": [
    "csv_files = ['Data/tiki_products_final.csv', 'Data/uniqlo_products_final.csv', 'Data/adidas_nikes_products_final.csv']\n",
    "\n",
    "# Read and concatenate all CSV files\n",
    "dfs = [pd.read_csv(file) for file in csv_files]\n",
    "merged_df = pd.concat(dfs, ignore_index=True)"
   ]
  },
  {
   "cell_type": "code",
   "execution_count": 7,
   "metadata": {},
   "outputs": [],
   "source": [
    "# Fill missing 'Tên cửa hàng' with 'UNIQLO' and 'Thương hiệu' with 'UNIQLO'\n",
    "merged_df.loc[merged_df['Tên cửa hàng'].isnull(), 'Tên cửa hàng'] = 'UNIQLO'\n",
    "merged_df.loc[merged_df['Tên cửa hàng'].str.contains('UNIQLO', case=False, na=False), 'Thương hiệu'] = merged_df['Thương hiệu'].fillna('UNIQLO')\n",
    "    \n",
    "# For 'Tên cửa hàng' containing 'addidas' or 'Nike', auto-fill 'Thương hiệu' as 'addidas' or 'Nike'\n",
    "merged_df.loc[merged_df['Tên cửa hàng'].str.contains('adidas', case=False, na=False), 'Thương hiệu'] = merged_df['Thương hiệu'].fillna('adidas')\n",
    "merged_df.loc[merged_df['Tên cửa hàng'].str.contains('Nike', case=False, na=False), 'Thương hiệu'] = merged_df['Thương hiệu'].fillna('Nike')\n",
    "\n",
    "# Fill missing 'Thương hiệu' with 'OEM'\n",
    "merged_df['Thương hiệu'] = merged_df['Thương hiệu'].fillna('OEM')\n",
    "\n",
    "# Fill missing numerical columns with 0\n",
    "numerical_columns = merged_df.select_dtypes(include=['float64', 'int64']).columns\n",
    "merged_df[numerical_columns] = merged_df[numerical_columns].fillna(0)\n",
    "\n",
    "# Fill missing 'Currency' with 'VND'\n",
    "merged_df['Currency'] = merged_df['Currency'].fillna('VND')"
   ]
  },
  {
   "cell_type": "code",
   "execution_count": 8,
   "metadata": {},
   "outputs": [],
   "source": [
    "# REMOVE ALL INSTANCE WITH 'Lượt đánh giá' | 'Điểm đánh giá trung bình' < 0\n",
    "merged_df = merged_df[merged_df['Lượt đánh giá'] > 0]\n",
    "merged_df = merged_df[merged_df['Điểm đánh giá trung bình'] > 0]\n",
    "\n",
    "# Drop 'Fit' column due to irrelevance\n",
    "merged_df = merged_df.drop(columns=['Fit'])"
   ]
  },
  {
   "cell_type": "code",
   "execution_count": 9,
   "metadata": {},
   "outputs": [],
   "source": [
    "# Lưu kết quả vào file CSV mới\n",
    "merged_df.to_csv('./Data/Data.csv', index=False)"
   ]
  }
 ],
 "metadata": {
  "kernelspec": {
   "display_name": "Python 3",
   "language": "python",
   "name": "python3"
  },
  "language_info": {
   "codemirror_mode": {
    "name": "ipython",
    "version": 3
   },
   "file_extension": ".py",
   "mimetype": "text/x-python",
   "name": "python",
   "nbconvert_exporter": "python",
   "pygments_lexer": "ipython3",
   "version": "3.12.8"
  }
 },
 "nbformat": 4,
 "nbformat_minor": 4
}
