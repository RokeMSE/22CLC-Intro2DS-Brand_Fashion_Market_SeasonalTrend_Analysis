{
 "cells": [
  {
   "cell_type": "code",
   "execution_count": 43,
   "metadata": {},
   "outputs": [],
   "source": [
    "import pandas as pd\n",
    "import os\n",
    "import glob"
   ]
  },
  {
   "cell_type": "markdown",
   "metadata": {},
   "source": [
    "# Remove unnecessary features"
   ]
  },
  {
   "cell_type": "markdown",
   "metadata": {},
   "source": [
    "### 1. Tiki data"
   ]
  },
  {
   "cell_type": "code",
   "execution_count": 44,
   "metadata": {},
   "outputs": [],
   "source": [
    "file_path = 'Data/tiki_products_áo.csv'\n",
    "df = pd.read_csv(file_path, sep='\\t')\n",
    "df = df.drop(columns=['Link'])\n",
    "df = df.drop_duplicates()\n",
    "df.to_csv('Data/tiki_products_áo_modified.csv', index=False)"
   ]
  },
  {
   "cell_type": "code",
   "execution_count": 45,
   "metadata": {},
   "outputs": [],
   "source": [
    "file_path = 'Data/tiki_products_quần.csv'\n",
    "df = pd.read_csv(file_path, sep='\\t')\n",
    "df = df.drop(columns=['Link'])\n",
    "df = df.drop_duplicates()\n",
    "df.to_csv('Data/tiki_products_quần_modified.csv', index=False)"
   ]
  },
  {
   "cell_type": "code",
   "execution_count": 46,
   "metadata": {},
   "outputs": [],
   "source": [
    "file_path = 'Data/tiki_products_thời trang.csv'\n",
    "df = pd.read_csv(file_path, sep='\\t')\n",
    "df = df.drop(columns=['Link'])\n",
    "df = df.drop_duplicates()\n",
    "df.to_csv('Data/tiki_products_thời trang_modified.csv', index=False)"
   ]
  },
  {
   "cell_type": "code",
   "execution_count": 47,
   "metadata": {},
   "outputs": [],
   "source": [
    "file_path = 'Data/tiki_products.csv'\n",
    "df = pd.read_csv(file_path, sep='\\t')\n",
    "df = df.drop(columns=['Link'])\n",
    "df = df.drop_duplicates()\n",
    "df.to_csv('Data/tiki_products_modified.csv', index=False)"
   ]
  },
  {
   "cell_type": "code",
   "execution_count": 48,
   "metadata": {},
   "outputs": [],
   "source": [
    "file_path = 'Data/tiki_products_váy.csv'\n",
    "df = pd.read_csv(file_path, sep='\\t')\n",
    "df = df.drop(columns=['Link'])\n",
    "df = df.drop_duplicates()\n",
    "df.to_csv('Data/tiki_products_váy_modified.csv', index=False)"
   ]
  },
  {
   "cell_type": "markdown",
   "metadata": {},
   "source": [
    "## 2. Uniqlo data"
   ]
  },
  {
   "cell_type": "code",
   "execution_count": 49,
   "metadata": {},
   "outputs": [],
   "source": [
    "file_path = 'Data/uniqlo_products.csv' \n",
    "df = pd.read_csv(file_path)\n",
    "df = df.drop(columns=['URL','Product ID'])\n",
    "df.rename(columns={\n",
    "    'Product Name': 'Tên sản phẩm',\n",
    "    'brand': 'Tên cửa hàng',\n",
    "    'Price': 'Giá',\n",
    "    'Rating': 'Điểm đánh giá trung bình',\n",
    "    'Total Ratings': 'Lượt đánh giá',\n",
    "    # thêm các cột cần đổi tên nếu cần\n",
    "}, inplace=True)\n",
    "df = df.drop_duplicates()\n",
    "df.to_csv('Data/uniqlo_products_modified.csv', index=False)"
   ]
  },
  {
   "cell_type": "markdown",
   "metadata": {},
   "source": [
    "## 3. Adidas and Nike data"
   ]
  },
  {
   "cell_type": "code",
   "execution_count": 50,
   "metadata": {},
   "outputs": [],
   "source": [
    "file_path = 'Data/adidas_nikes_products_snaphost_data.csv'\n",
    "df = pd.read_csv(file_path)\n",
    "df = df.drop(columns=['description', 'images', 'scraped_at', 'url','availability','color'])\n",
    "df = df.drop_duplicates()\n",
    "df.rename(columns={\n",
    "    'name': 'Tên sản phẩm',\n",
    "    'brand': 'Tên cửa hàng',\n",
    "    'price': 'Giá',\n",
    "    'avg_rating': 'Điểm đánh giá trung bình',\n",
    "    'review_count': 'Lượt đánh giá',\n",
    "    'currency':'Currency'\n",
    "    # thêm các cột cần đổi tên nếu cần\n",
    "}, inplace=True)\n",
    "\n",
    "exchange_rate = 25000\n",
    "df['Giá'] = df['Giá'] * exchange_rate\n",
    "df['Currency'] = 'VND'\n",
    "df.to_csv('Data/adidas_nikes_products_modified.csv', index=False)"
   ]
  },
  {
   "cell_type": "code",
   "execution_count": 51,
   "metadata": {},
   "outputs": [],
   "source": [
    "csv_files = glob.glob('Data/*modified*.csv')\n",
    "\n",
    "# Đọc và nối các file CSV\n",
    "dfs = [pd.read_csv(file) for file in csv_files]\n",
    "\n",
    "# Nối tất cả các DataFrame lại với nhau\n",
    "merged_df = pd.concat(dfs, ignore_index=True)\n",
    "\n",
    "# Lưu kết quả vào file CSV mới\n",
    "merged_df.to_csv('merged_file.csv', index=False)"
   ]
  }
 ],
 "metadata": {
  "kernelspec": {
   "display_name": "Python 3 (ipykernel)",
   "language": "python",
   "name": "python3"
  },
  "language_info": {
   "codemirror_mode": {
    "name": "ipython",
    "version": 3
   },
   "file_extension": ".py",
   "mimetype": "text/x-python",
   "name": "python",
   "nbconvert_exporter": "python",
   "pygments_lexer": "ipython3",
   "version": "3.13.1"
  }
 },
 "nbformat": 4,
 "nbformat_minor": 2
}
