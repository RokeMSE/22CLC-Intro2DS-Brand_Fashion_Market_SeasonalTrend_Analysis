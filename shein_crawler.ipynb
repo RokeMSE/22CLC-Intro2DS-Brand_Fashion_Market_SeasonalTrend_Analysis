{
 "cells": [
  {
   "cell_type": "markdown",
   "metadata": {},
   "source": [
    "# SHEIN CRAWLER"
   ]
  },
  {
   "cell_type": "code",
   "execution_count": 100,
   "metadata": {},
   "outputs": [],
   "source": [
    "import requests\n",
    "import numpy as np\n",
    "from bs4 import BeautifulSoup\n",
    "from selenium import webdriver\n",
    "from selenium.webdriver.chrome.service import Service\n",
    "from selenium.webdriver.common.by import By\n",
    "from selenium.webdriver.chrome.options import Options\n",
    "import pandas as pd\n",
    "from time import sleep\n",
    "from typing import List, Dict, Optional"
   ]
  },
  {
   "cell_type": "markdown",
   "metadata": {},
   "source": [
    "# Some global var"
   ]
  },
  {
   "cell_type": "code",
   "execution_count": 101,
   "metadata": {},
   "outputs": [
    {
     "data": {
      "text/plain": [
       "' chrome_options = Options()\\nchrome_options.add_argument(\"--headless\")  # Run in headless mode\\nchrome_options.add_argument(\"--disable-gpu\")\\nchrome_options.add_argument(\"--no-sandbox\")\\nchromeDriverPath = \"./chromedriver_win32/chromedriver\"\\nservice = webdriver.ChromeService()\\ndriver = webdriver.Chrome(service=service) '"
      ]
     },
     "execution_count": 101,
     "metadata": {},
     "output_type": "execute_result"
    }
   ],
   "source": [
    "BASE_URL = \"https://www.shein.com.vn\"\n",
    "Fashion_keyword = ['Thời trang', 'Giày', 'Quần', 'Áo', 'Váy', 'Đầm', 'Trang phục', 'Âu phục','clothing', 'shoes', 'pants', 'shirt', 'dress', 'outfit', 'suit','woman','man','bottom','top','hat']\n",
    "BrandedStore = ['Nike', 'Addidas', 'Puma', 'Converse', 'Vans', 'New Balance', 'Balenciaga', 'Gucci', 'Louis Vuitton', 'Hermes', 'Chanel']\n",
    "\n",
    "# Configure Selenium WebDriver\n",
    "\"\"\" chrome_options = Options()\n",
    "chrome_options.add_argument(\"--headless\")  # Run in headless mode\n",
    "chrome_options.add_argument(\"--disable-gpu\")\n",
    "chrome_options.add_argument(\"--no-sandbox\")\n",
    "chromeDriverPath = \"./chromedriver_win32/chromedriver\"\n",
    "service = webdriver.ChromeService()\n",
    "driver = webdriver.Chrome(service=service) \"\"\""
   ]
  },
  {
   "cell_type": "markdown",
   "metadata": {},
   "source": [
    "# Get category links (Main page)"
   ]
  },
  {
   "cell_type": "code",
   "execution_count": 102,
   "metadata": {},
   "outputs": [
    {
     "name": "stdout",
     "output_type": "stream",
     "text": [
      "Error processing span: Message: no such element: Unable to locate element: {\"method\":\"tag name\",\"selector\":\"a\"}\n",
      "  (Session info: chrome=131.0.6778.69); For documentation on this error, please visit: https://www.selenium.dev/documentation/webdriver/troubleshooting/errors#no-such-element-exception\n",
      "Stacktrace:\n",
      "\tGetHandleVerifier [0x00007FF69EDA2775+28773]\n",
      "\t(No symbol) [0x00007FF69ED0AFB0]\n",
      "\t(No symbol) [0x00007FF69EBA552A]\n",
      "\t(No symbol) [0x00007FF69EBF8EAE]\n",
      "\t(No symbol) [0x00007FF69EBF919C]\n",
      "\t(No symbol) [0x00007FF69EBEC2FC]\n",
      "\t(No symbol) [0x00007FF69EC1EFDF]\n",
      "\t(No symbol) [0x00007FF69EBEC1C6]\n",
      "\t(No symbol) [0x00007FF69EC1F1B0]\n",
      "\t(No symbol) [0x00007FF69EC3F1A4]\n",
      "\t(No symbol) [0x00007FF69EC1ED43]\n",
      "\t(No symbol) [0x00007FF69EBEA548]\n",
      "\t(No symbol) [0x00007FF69EBEB6B1]\n",
      "\tGetHandleVerifier [0x00007FF69F0CF45D+3358029]\n",
      "\tGetHandleVerifier [0x00007FF69F0E430D+3443709]\n",
      "\tGetHandleVerifier [0x00007FF69F0D83FD+3394797]\n",
      "\tGetHandleVerifier [0x00007FF69EE6929B+842635]\n",
      "\t(No symbol) [0x00007FF69ED1654F]\n",
      "\t(No symbol) [0x00007FF69ED11FA4]\n",
      "\t(No symbol) [0x00007FF69ED1213D]\n",
      "\t(No symbol) [0x00007FF69ED01629]\n",
      "\tBaseThreadInitThunk [0x00007FF9C809259D+29]\n",
      "\tRtlUserThreadStart [0x00007FF9C980AF38+40]\n",
      "\n",
      "Error processing span: Message: no such element: Unable to locate element: {\"method\":\"tag name\",\"selector\":\"a\"}\n",
      "  (Session info: chrome=131.0.6778.69); For documentation on this error, please visit: https://www.selenium.dev/documentation/webdriver/troubleshooting/errors#no-such-element-exception\n",
      "Stacktrace:\n",
      "\tGetHandleVerifier [0x00007FF69EDA2775+28773]\n",
      "\t(No symbol) [0x00007FF69ED0AFB0]\n",
      "\t(No symbol) [0x00007FF69EBA552A]\n",
      "\t(No symbol) [0x00007FF69EBF8EAE]\n",
      "\t(No symbol) [0x00007FF69EBF919C]\n",
      "\t(No symbol) [0x00007FF69EBEC2FC]\n",
      "\t(No symbol) [0x00007FF69EC1EFDF]\n",
      "\t(No symbol) [0x00007FF69EBEC1C6]\n",
      "\t(No symbol) [0x00007FF69EC1F1B0]\n",
      "\t(No symbol) [0x00007FF69EC3F1A4]\n",
      "\t(No symbol) [0x00007FF69EC1ED43]\n",
      "\t(No symbol) [0x00007FF69EBEA548]\n",
      "\t(No symbol) [0x00007FF69EBEB6B1]\n",
      "\tGetHandleVerifier [0x00007FF69F0CF45D+3358029]\n",
      "\tGetHandleVerifier [0x00007FF69F0E430D+3443709]\n",
      "\tGetHandleVerifier [0x00007FF69F0D83FD+3394797]\n",
      "\tGetHandleVerifier [0x00007FF69EE6929B+842635]\n",
      "\t(No symbol) [0x00007FF69ED1654F]\n",
      "\t(No symbol) [0x00007FF69ED11FA4]\n",
      "\t(No symbol) [0x00007FF69ED1213D]\n",
      "\t(No symbol) [0x00007FF69ED01629]\n",
      "\tBaseThreadInitThunk [0x00007FF9C809259D+29]\n",
      "\tRtlUserThreadStart [0x00007FF9C980AF38+40]\n",
      "\n",
      "Span ID: _5dhcz6su1, Href: https://www.shein.com.vn/Women-Clothing-c-2030.html?src_module=all&src_identifier=on%3DIMAGE_COMPONENT%60cn%3Dshopbycate%60hz%3DhotZone_1%60ps%3D4_1%60jc%3Dreal_2030&src_tab_page_id=page_home1732026118626&ici=CCCSN%3Dall_ON%3DIMAGE_COMPONENT_OI%3D46452760_CN%3DONE_IMAGE_COMPONENT_TI%3D50001_aod%3D0_PS%3D4-1_ABT%3D0&entranceType=sbc\n",
      "Span ID: _mi3j38cok, Href: https://www.shein.com.vn/Women-Tops,-Blouses-Tee-c-1766.html?src_module=all&src_identifier=on%3DIMAGE_COMPONENT%60cn%3Dshopbycate%60hz%3DhotZone_2%60ps%3D4_2%60jc%3Dreal_1766&src_tab_page_id=page_home1732026118626&ici=CCCSN%3Dall_ON%3DIMAGE_COMPONENT_OI%3D46452760_CN%3DONE_IMAGE_COMPONENT_TI%3D50001_aod%3D0_PS%3D4-2_ABT%3D0&entranceType=sbc\n",
      "Span ID: _dtm7m12lc, Href: https://www.shein.com.vn/Women-Dresses-c-12472.html?src_module=all&src_identifier=on%3DIMAGE_COMPONENT%60cn%3Dshopbycate%60hz%3DhotZone_3%60ps%3D4_3%60jc%3Dreal_12472&src_tab_page_id=page_home1732026118626&ici=CCCSN%3Dall_ON%3DIMAGE_COMPONENT_OI%3D46452760_CN%3DONE_IMAGE_COMPONENT_TI%3D50001_aod%3D0_PS%3D4-3_ABT%3D0&entranceType=sbc\n",
      "Span ID: _02esli149, Href: https://www.shein.com.vn/Women-Bottoms-c-1767.html?src_module=all&src_identifier=on%3DIMAGE_COMPONENT%60cn%3Dshopbycate%60hz%3DhotZone_4%60ps%3D4_4%60jc%3Dreal_1767&src_tab_page_id=page_home1732026118626&ici=CCCSN%3Dall_ON%3DIMAGE_COMPONENT_OI%3D46452760_CN%3DONE_IMAGE_COMPONENT_TI%3D50001_aod%3D0_PS%3D4-4_ABT%3D0&entranceType=sbc\n",
      "Span ID: _xiuxw98i5, Href: https://www.shein.com.vn/Underwear-Sleepwear-c-2038.html?src_module=all&src_identifier=on%3DIMAGE_COMPONENT%60cn%3Dshopbycate%60hz%3DhotZone_5%60ps%3D4_5%60jc%3Dreal_2038&src_tab_page_id=page_home1732026118626&ici=CCCSN%3Dall_ON%3DIMAGE_COMPONENT_OI%3D46452760_CN%3DONE_IMAGE_COMPONENT_TI%3D50001_aod%3D0_PS%3D4-5_ABT%3D0&entranceType=sbc\n",
      "Span ID: _2h26fk4ma, Href: https://www.shein.com.vn/hotsale/Beachwear-sc-003147526.html?src_module=all&src_identifier=on%3DIMAGE_COMPONENT%60cn%3Dshopbycate%60hz%3DhotZone_6%60ps%3D4_6%60jc%3DitemPicking_003147526&src_tab_page_id=page_home1732026118626&ici=CCCSN%3Dall_ON%3DIMAGE_COMPONENT_OI%3D46452760_CN%3DONE_IMAGE_COMPONENT_TI%3D50001_aod%3D0_PS%3D4-6_ABT%3D0&entranceType=sbc\n",
      "Span ID: _15mvzg36w, Href: https://www.shein.com.vn/Electronics-c-2273.html?src_module=all&src_identifier=on%3DIMAGE_COMPONENT%60cn%3Dshopbycate%60hz%3DhotZone_7%60ps%3D4_7%60jc%3Dreal_2273&src_tab_page_id=page_home1732026118626&ici=CCCSN%3Dall_ON%3DIMAGE_COMPONENT_OI%3D46452760_CN%3DONE_IMAGE_COMPONENT_TI%3D50001_aod%3D0_PS%3D4-7_ABT%3D0&entranceType=sbc\n",
      "Span ID: _0fa6sn1gq, Href: https://www.shein.com.vn/Beauty-Health-c-1864.html?src_module=all&src_identifier=on%3DIMAGE_COMPONENT%60cn%3Dshopbycate%60hz%3DhotZone_8%60ps%3D4_8%60jc%3Dreal_1864&src_tab_page_id=page_home1732026118626&ici=CCCSN%3Dall_ON%3DIMAGE_COMPONENT_OI%3D46452760_CN%3DONE_IMAGE_COMPONENT_TI%3D50001_aod%3D0_PS%3D4-8_ABT%3D0&entranceType=sbc\n",
      "Span ID: _ooxawohey, Href: https://www.shein.com.vn/Home-Living-c-2032.html?src_module=all&src_identifier=on%3DIMAGE_COMPONENT%60cn%3Dshopbycate%60hz%3DhotZone_9%60ps%3D4_9%60jc%3Dreal_2032&src_tab_page_id=page_home1732026118626&ici=CCCSN%3Dall_ON%3DIMAGE_COMPONENT_OI%3D46452760_CN%3DONE_IMAGE_COMPONENT_TI%3D50001_aod%3D0_PS%3D4-9_ABT%3D0&entranceType=sbc\n",
      "Span ID: _kp2hppf9k, Href: https://www.shein.com.vn/Women-Plus-Clothing-c-1888.html?src_module=all&src_identifier=on%3DIMAGE_COMPONENT%60cn%3Dshopbycate%60hz%3DhotZone_10%60ps%3D4_10%60jc%3Dreal_1888&src_tab_page_id=page_home1732026118626&ici=CCCSN%3Dall_ON%3DIMAGE_COMPONENT_OI%3D46452760_CN%3DONE_IMAGE_COMPONENT_TI%3D50001_aod%3D0_PS%3D4-10_ABT%3D0&entranceType=sbc\n",
      "Span ID: _31yfmvfkw, Href: https://www.shein.com.vn/Jewelry-Watches-c-3634.html?src_module=all&src_identifier=on%3DIMAGE_COMPONENT%60cn%3Dshopbycate%60hz%3DhotZone_11%60ps%3D4_11%60jc%3Dreal_3634&src_tab_page_id=page_home1732026118626&ici=CCCSN%3Dall_ON%3DIMAGE_COMPONENT_OI%3D46452760_CN%3DONE_IMAGE_COMPONENT_TI%3D50001_aod%3D0_PS%3D4-11_ABT%3D0&entranceType=sbc\n",
      "Span ID: _5cn60x819, Href: https://www.shein.com.vn/Apparel-Accessories-c-3631.html?src_module=all&src_identifier=on%3DIMAGE_COMPONENT%60cn%3Dshopbycate%60hz%3DhotZone_12%60ps%3D4_12%60jc%3Dreal_3631&src_tab_page_id=page_home1732026118626&ici=CCCSN%3Dall_ON%3DIMAGE_COMPONENT_OI%3D46452760_CN%3DONE_IMAGE_COMPONENT_TI%3D50001_aod%3D0_PS%3D4-12_ABT%3D0&entranceType=sbc\n",
      "Span ID: e3a4432e-14c6-4f8c-8674-e385ebd14d36, Href: https://www.shein.com.vn/Men-Apparel-c-2026.html?src_module=all&src_identifier=on%3DIMAGE_COMPONENT%60cn%3Dshopbycate%60hz%3DhotZone_13%60ps%3D4_13%60jc%3Dreal_2026&src_tab_page_id=page_home1732026118626&ici=CCCSN%3Dall_ON%3DIMAGE_COMPONENT_OI%3D46452760_CN%3DONE_IMAGE_COMPONENT_TI%3D50001_aod%3D0_PS%3D4-13_ABT%3D0&entranceType=sbc\n",
      "Span ID: 56903600-2c75-4ba5-89da-9fd0eb97873b, Href: https://www.shein.com.vn/Kids-c-2031.html?src_module=all&src_identifier=on%3DIMAGE_COMPONENT%60cn%3Dshopbycate%60hz%3DhotZone_14%60ps%3D4_14%60jc%3Dreal_2031&src_tab_page_id=page_home1732026118626&ici=CCCSN%3Dall_ON%3DIMAGE_COMPONENT_OI%3D46452760_CN%3DONE_IMAGE_COMPONENT_TI%3D50001_aod%3D0_PS%3D4-14_ABT%3D0&entranceType=sbc\n",
      "['https://www.shein.com.vn/Women-Clothing-c-2030.html?src_module=all&src_identifier=on%3DIMAGE_COMPONENT%60cn%3Dshopbycate%60hz%3DhotZone_1%60ps%3D4_1%60jc%3Dreal_2030&src_tab_page_id=page_home1732026118626&ici=CCCSN%3Dall_ON%3DIMAGE_COMPONENT_OI%3D46452760_CN%3DONE_IMAGE_COMPONENT_TI%3D50001_aod%3D0_PS%3D4-1_ABT%3D0&entranceType=sbc', 'https://www.shein.com.vn/Women-Tops,-Blouses-Tee-c-1766.html?src_module=all&src_identifier=on%3DIMAGE_COMPONENT%60cn%3Dshopbycate%60hz%3DhotZone_2%60ps%3D4_2%60jc%3Dreal_1766&src_tab_page_id=page_home1732026118626&ici=CCCSN%3Dall_ON%3DIMAGE_COMPONENT_OI%3D46452760_CN%3DONE_IMAGE_COMPONENT_TI%3D50001_aod%3D0_PS%3D4-2_ABT%3D0&entranceType=sbc', 'https://www.shein.com.vn/Women-Dresses-c-12472.html?src_module=all&src_identifier=on%3DIMAGE_COMPONENT%60cn%3Dshopbycate%60hz%3DhotZone_3%60ps%3D4_3%60jc%3Dreal_12472&src_tab_page_id=page_home1732026118626&ici=CCCSN%3Dall_ON%3DIMAGE_COMPONENT_OI%3D46452760_CN%3DONE_IMAGE_COMPONENT_TI%3D50001_aod%3D0_PS%3D4-3_ABT%3D0&entranceType=sbc', 'https://www.shein.com.vn/Women-Bottoms-c-1767.html?src_module=all&src_identifier=on%3DIMAGE_COMPONENT%60cn%3Dshopbycate%60hz%3DhotZone_4%60ps%3D4_4%60jc%3Dreal_1767&src_tab_page_id=page_home1732026118626&ici=CCCSN%3Dall_ON%3DIMAGE_COMPONENT_OI%3D46452760_CN%3DONE_IMAGE_COMPONENT_TI%3D50001_aod%3D0_PS%3D4-4_ABT%3D0&entranceType=sbc', 'https://www.shein.com.vn/Women-Plus-Clothing-c-1888.html?src_module=all&src_identifier=on%3DIMAGE_COMPONENT%60cn%3Dshopbycate%60hz%3DhotZone_10%60ps%3D4_10%60jc%3Dreal_1888&src_tab_page_id=page_home1732026118626&ici=CCCSN%3Dall_ON%3DIMAGE_COMPONENT_OI%3D46452760_CN%3DONE_IMAGE_COMPONENT_TI%3D50001_aod%3D0_PS%3D4-10_ABT%3D0&entranceType=sbc']\n"
     ]
    }
   ],
   "source": [
    "def get_products_category_pages(main_page_url):\n",
    "    # Set up Selenium WebDriver\n",
    "    driver = webdriver.Chrome()  # Or the browser of your choice\n",
    "    driver.get(main_page_url)\n",
    "    sleep(5)  # Wait for the page to load\n",
    "\n",
    "    # Find all the span elements\n",
    "    spans = driver.find_elements(By.CSS_SELECTOR, \"span[id]\")  # Target all span elements with an ID attribute\n",
    "\n",
    "    # Extract href links and corresponding span IDs\n",
    "    results = []\n",
    "    for span in spans:\n",
    "        try:\n",
    "            span_id = span.get_attribute(\"id\")  # Get the span ID\n",
    "            link_element = span.find_element(By.TAG_NAME, \"a\")  # Find <a> inside the span\n",
    "            href = link_element.get_attribute(\"href\")  # Get the href attribute\n",
    "            results.append({\"span_id\": span_id, \"href\": href})\n",
    "            sleep(1)  # Add a delay to avoid being blocked\n",
    "        except Exception as e:\n",
    "            print(f\"Error processing span: {e}\")\n",
    "\n",
    "    # Print the extracted data\n",
    "    for result in results:\n",
    "        print(f\"Span ID: {result['span_id']}, Href: {result['href']}\")\n",
    "\n",
    "    driver.quit()\n",
    "    \n",
    "    return [result['href'] for result in results]\n",
    "\n",
    "cat_urls = get_products_category_pages(BASE_URL)\n",
    "\n",
    "def filter_category(cat_urls: List[str], keywords: List[str]) -> List[str]:\n",
    "    filtered_urls = []\n",
    "    for cat_url in cat_urls:\n",
    "        for keyword in keywords:\n",
    "            if cat_url.lower().find(keyword.lower()) != -1:\n",
    "                filtered_urls.append(cat_url)\n",
    "    return filtered_urls\n",
    "\n",
    "filtered_urls = filter_category(cat_urls, Fashion_keyword)\n",
    "print(filtered_urls)"
   ]
  },
  {
   "cell_type": "markdown",
   "metadata": {},
   "source": [
    "# Get products"
   ]
  },
  {
   "cell_type": "code",
   "execution_count": null,
   "metadata": {},
   "outputs": [
    {
     "ename": "InvalidArgumentException",
     "evalue": "Message: invalid argument: 'url' must be a string\n  (Session info: chrome=131.0.6778.69)\nStacktrace:\n\tGetHandleVerifier [0x00007FF69EDA2775+28773]\n\t(No symbol) [0x00007FF69ED0AFB0]\n\t(No symbol) [0x00007FF69EBA552A]\n\t(No symbol) [0x00007FF69EC40074]\n\t(No symbol) [0x00007FF69EC1EF9A]\n\t(No symbol) [0x00007FF69EC3F1A4]\n\t(No symbol) [0x00007FF69EC1ED43]\n\t(No symbol) [0x00007FF69EBEA548]\n\t(No symbol) [0x00007FF69EBEB6B1]\n\tGetHandleVerifier [0x00007FF69F0CF45D+3358029]\n\tGetHandleVerifier [0x00007FF69F0E430D+3443709]\n\tGetHandleVerifier [0x00007FF69F0D83FD+3394797]\n\tGetHandleVerifier [0x00007FF69EE6929B+842635]\n\t(No symbol) [0x00007FF69ED1654F]\n\t(No symbol) [0x00007FF69ED11FA4]\n\t(No symbol) [0x00007FF69ED1213D]\n\t(No symbol) [0x00007FF69ED01629]\n\tBaseThreadInitThunk [0x00007FF9C809259D+29]\n\tRtlUserThreadStart [0x00007FF9C980AF38+40]\n",
     "output_type": "error",
     "traceback": [
      "\u001b[1;31m---------------------------------------------------------------------------\u001b[0m",
      "\u001b[1;31mInvalidArgumentException\u001b[0m                  Traceback (most recent call last)",
      "Cell \u001b[1;32mIn[103], line 33\u001b[0m\n\u001b[0;32m     30\u001b[0m     \u001b[38;5;28;01mreturn\u001b[39;00m products\n\u001b[0;32m     32\u001b[0m \u001b[38;5;28;01mfor\u001b[39;00m filtered_url \u001b[38;5;129;01min\u001b[39;00m filtered_urls:\n\u001b[1;32m---> 33\u001b[0m     products \u001b[38;5;241m=\u001b[39m \u001b[43mget_products\u001b[49m\u001b[43m(\u001b[49m\u001b[43mfiltered_urls\u001b[49m\u001b[43m)\u001b[49m\n",
      "Cell \u001b[1;32mIn[103], line 4\u001b[0m, in \u001b[0;36mget_products\u001b[1;34m(category_link)\u001b[0m\n\u001b[0;32m      1\u001b[0m \u001b[38;5;28;01mdef\u001b[39;00m \u001b[38;5;21mget_products\u001b[39m(category_link):\n\u001b[0;32m      2\u001b[0m     \u001b[38;5;66;03m# Set up Selenium WebDriver\u001b[39;00m\n\u001b[0;32m      3\u001b[0m     driver \u001b[38;5;241m=\u001b[39m webdriver\u001b[38;5;241m.\u001b[39mChrome()  \u001b[38;5;66;03m# Or the browser of your choice\u001b[39;00m\n\u001b[1;32m----> 4\u001b[0m     \u001b[43mdriver\u001b[49m\u001b[38;5;241;43m.\u001b[39;49m\u001b[43mget\u001b[49m\u001b[43m(\u001b[49m\u001b[43mcategory_link\u001b[49m\u001b[43m)\u001b[49m\n\u001b[0;32m      5\u001b[0m     sleep(\u001b[38;5;241m5\u001b[39m)  \u001b[38;5;66;03m# Wait for the page to load\u001b[39;00m\n\u001b[0;32m      7\u001b[0m     \u001b[38;5;66;03m# Find all the div elements\u001b[39;00m\n",
      "File \u001b[1;32m~\\AppData\\Local\\Packages\\PythonSoftwareFoundation.Python.3.12_qbz5n2kfra8p0\\LocalCache\\local-packages\\Python312\\site-packages\\selenium\\webdriver\\remote\\webdriver.py:389\u001b[0m, in \u001b[0;36mWebDriver.get\u001b[1;34m(self, url)\u001b[0m\n\u001b[0;32m    387\u001b[0m \u001b[38;5;28;01mdef\u001b[39;00m \u001b[38;5;21mget\u001b[39m(\u001b[38;5;28mself\u001b[39m, url: \u001b[38;5;28mstr\u001b[39m) \u001b[38;5;241m-\u001b[39m\u001b[38;5;241m>\u001b[39m \u001b[38;5;28;01mNone\u001b[39;00m:\n\u001b[0;32m    388\u001b[0m \u001b[38;5;250m    \u001b[39m\u001b[38;5;124;03m\"\"\"Loads a web page in the current browser session.\"\"\"\u001b[39;00m\n\u001b[1;32m--> 389\u001b[0m     \u001b[38;5;28;43mself\u001b[39;49m\u001b[38;5;241;43m.\u001b[39;49m\u001b[43mexecute\u001b[49m\u001b[43m(\u001b[49m\u001b[43mCommand\u001b[49m\u001b[38;5;241;43m.\u001b[39;49m\u001b[43mGET\u001b[49m\u001b[43m,\u001b[49m\u001b[43m \u001b[49m\u001b[43m{\u001b[49m\u001b[38;5;124;43m\"\u001b[39;49m\u001b[38;5;124;43murl\u001b[39;49m\u001b[38;5;124;43m\"\u001b[39;49m\u001b[43m:\u001b[49m\u001b[43m \u001b[49m\u001b[43murl\u001b[49m\u001b[43m}\u001b[49m\u001b[43m)\u001b[49m\n",
      "File \u001b[1;32m~\\AppData\\Local\\Packages\\PythonSoftwareFoundation.Python.3.12_qbz5n2kfra8p0\\LocalCache\\local-packages\\Python312\\site-packages\\selenium\\webdriver\\remote\\webdriver.py:380\u001b[0m, in \u001b[0;36mWebDriver.execute\u001b[1;34m(self, driver_command, params)\u001b[0m\n\u001b[0;32m    378\u001b[0m response \u001b[38;5;241m=\u001b[39m \u001b[38;5;28mself\u001b[39m\u001b[38;5;241m.\u001b[39mcommand_executor\u001b[38;5;241m.\u001b[39mexecute(driver_command, params)\n\u001b[0;32m    379\u001b[0m \u001b[38;5;28;01mif\u001b[39;00m response:\n\u001b[1;32m--> 380\u001b[0m     \u001b[38;5;28;43mself\u001b[39;49m\u001b[38;5;241;43m.\u001b[39;49m\u001b[43merror_handler\u001b[49m\u001b[38;5;241;43m.\u001b[39;49m\u001b[43mcheck_response\u001b[49m\u001b[43m(\u001b[49m\u001b[43mresponse\u001b[49m\u001b[43m)\u001b[49m\n\u001b[0;32m    381\u001b[0m     response[\u001b[38;5;124m\"\u001b[39m\u001b[38;5;124mvalue\u001b[39m\u001b[38;5;124m\"\u001b[39m] \u001b[38;5;241m=\u001b[39m \u001b[38;5;28mself\u001b[39m\u001b[38;5;241m.\u001b[39m_unwrap_value(response\u001b[38;5;241m.\u001b[39mget(\u001b[38;5;124m\"\u001b[39m\u001b[38;5;124mvalue\u001b[39m\u001b[38;5;124m\"\u001b[39m, \u001b[38;5;28;01mNone\u001b[39;00m))\n\u001b[0;32m    382\u001b[0m     \u001b[38;5;28;01mreturn\u001b[39;00m response\n",
      "File \u001b[1;32m~\\AppData\\Local\\Packages\\PythonSoftwareFoundation.Python.3.12_qbz5n2kfra8p0\\LocalCache\\local-packages\\Python312\\site-packages\\selenium\\webdriver\\remote\\errorhandler.py:229\u001b[0m, in \u001b[0;36mErrorHandler.check_response\u001b[1;34m(self, response)\u001b[0m\n\u001b[0;32m    227\u001b[0m         alert_text \u001b[38;5;241m=\u001b[39m value[\u001b[38;5;124m\"\u001b[39m\u001b[38;5;124malert\u001b[39m\u001b[38;5;124m\"\u001b[39m]\u001b[38;5;241m.\u001b[39mget(\u001b[38;5;124m\"\u001b[39m\u001b[38;5;124mtext\u001b[39m\u001b[38;5;124m\"\u001b[39m)\n\u001b[0;32m    228\u001b[0m     \u001b[38;5;28;01mraise\u001b[39;00m exception_class(message, screen, stacktrace, alert_text)  \u001b[38;5;66;03m# type: ignore[call-arg]  # mypy is not smart enough here\u001b[39;00m\n\u001b[1;32m--> 229\u001b[0m \u001b[38;5;28;01mraise\u001b[39;00m exception_class(message, screen, stacktrace)\n",
      "\u001b[1;31mInvalidArgumentException\u001b[0m: Message: invalid argument: 'url' must be a string\n  (Session info: chrome=131.0.6778.69)\nStacktrace:\n\tGetHandleVerifier [0x00007FF69EDA2775+28773]\n\t(No symbol) [0x00007FF69ED0AFB0]\n\t(No symbol) [0x00007FF69EBA552A]\n\t(No symbol) [0x00007FF69EC40074]\n\t(No symbol) [0x00007FF69EC1EF9A]\n\t(No symbol) [0x00007FF69EC3F1A4]\n\t(No symbol) [0x00007FF69EC1ED43]\n\t(No symbol) [0x00007FF69EBEA548]\n\t(No symbol) [0x00007FF69EBEB6B1]\n\tGetHandleVerifier [0x00007FF69F0CF45D+3358029]\n\tGetHandleVerifier [0x00007FF69F0E430D+3443709]\n\tGetHandleVerifier [0x00007FF69F0D83FD+3394797]\n\tGetHandleVerifier [0x00007FF69EE6929B+842635]\n\t(No symbol) [0x00007FF69ED1654F]\n\t(No symbol) [0x00007FF69ED11FA4]\n\t(No symbol) [0x00007FF69ED1213D]\n\t(No symbol) [0x00007FF69ED01629]\n\tBaseThreadInitThunk [0x00007FF9C809259D+29]\n\tRtlUserThreadStart [0x00007FF9C980AF38+40]\n"
     ]
    }
   ],
   "source": [
    "def get_products(category_link: str) -> List[Dict[str, Optional[str]]]:\n",
    "    # Set up Selenium WebDriver\n",
    "    driver = webdriver.Chrome()  # Or the browser of your choice\n",
    "    driver.get(category_link)\n",
    "    sleep(5)  # Wait for the page to load\n",
    "\n",
    "    # Find all the div elements\n",
    "    sections = driver.find_elements(By.CSS_SELECTOR, \"section[class]\")  # Target all div elements with a class attribute\n",
    "\n",
    "    # Extract product data\n",
    "    products = []\n",
    "    for section in sections:\n",
    "        try:\n",
    "            if section.get_attribute(\"class\") == \"product-card multiple-row-card j-expose__product-item hover-effect product-list__item product-list__item-new\":\n",
    "                product = {}\n",
    "                product[\"name\"] = div.find_element(By.CLASS_NAME, \"S-product-item__name\").text\n",
    "                product[\"price\"] = div.find_element(By.CLASS_NAME, \"S-product-item__price-num\").text\n",
    "                product[\"link\"] = div.find_element(By.CLASS_NAME, \"S-product-item__img\").get_attribute(\"href\")\n",
    "                products.append(product)\n",
    "                sleep(1)  # Add a delay to avoid being blocked\n",
    "        except Exception as e:\n",
    "            print(f\"Error processing product: {e}\")\n",
    "\n",
    "    # Print the extracted data\n",
    "    for product in products:\n",
    "        print(f\"Name: {product['name']}, Price: {product['price']}, Link: {product['link']}\")\n",
    "\n",
    "    driver.quit()\n",
    "    \n",
    "    return products\n",
    "\n",
    "for filtered_url in filtered_urls:\n",
    "    products = get_products(filtered_urls)"
   ]
  }
 ],
 "metadata": {
  "kernelspec": {
   "display_name": "min_ds-env",
   "language": "python",
   "name": "python3"
  },
  "language_info": {
   "codemirror_mode": {
    "name": "ipython",
    "version": 3
   },
   "file_extension": ".py",
   "mimetype": "text/x-python",
   "name": "python",
   "nbconvert_exporter": "python",
   "pygments_lexer": "ipython3",
   "version": "3.12.7"
  }
 },
 "nbformat": 4,
 "nbformat_minor": 2
}
